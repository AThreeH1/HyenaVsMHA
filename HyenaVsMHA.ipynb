{
  "nbformat": 4,
  "nbformat_minor": 0,
  "metadata": {
    "colab": {
      "provenance": []
    },
    "kernelspec": {
      "name": "python3",
      "display_name": "Python 3"
    },
    "language_info": {
      "name": "python"
    }
  },
  "cells": [
    {
      "cell_type": "code",
      "source": [
        "SeqD = 512\n",
        "InpD = OutD = SeqD\n",
        "KernalS = 3\n",
        "Bytes = 4\n",
        "Order = 128\n",
        "BatchS = 20\n",
        "\n",
        "Memory = (InpD*OutD*KernalS + OutD)*Bytes*Order*BatchS\n",
        "print('Approx ' + str(Memory/1000000000) + ' GB should used')"
      ],
      "metadata": {
        "id": "oMVTwLGUgeJh"
      },
      "execution_count": null,
      "outputs": []
    },
    {
      "cell_type": "code",
      "source": [
        "# Assigning Values\n",
        "device = torch.device(\"cuda\")\n",
        "input_dim = 512\n",
        "d_model = 512\n",
        "num_heads = 8\n",
        "batch_size = 1000\n",
        "sequence_length = 128\n",
        "train_ratio = 0.8\n",
        "\n",
        "# Initialising random input\n",
        "x = torch.randn( (batch_size, sequence_length, input_dim), requires_grad = True ).to(device)\n",
        "\n",
        "# Generate training data\n",
        "torch.manual_seed(123)\n",
        "model_mha = MultiheadAttention(input_dim, d_model, num_heads).to(device)\n",
        "out = model_mha.forward(x)"
      ],
      "metadata": {
        "colab": {
          "base_uri": "https://localhost:8080/"
        },
        "id": "MVmwkctLtaOR",
        "outputId": "f637f945-f6e7-48c1-817e-193f0f9bb379"
      },
      "execution_count": null,
      "outputs": [
        {
          "output_type": "stream",
          "name": "stdout",
          "text": [
            "x.size(): torch.Size([1000, 128, 512])\n",
            "qkv.size(): torch.Size([1000, 128, 1536])\n",
            "qkv.size(): torch.Size([1000, 128, 8, 192])\n",
            "qkv.size(): torch.Size([1000, 8, 128, 192])\n",
            "q size: torch.Size([1000, 8, 128, 64]), k size: torch.Size([1000, 8, 128, 64]), v size: torch.Size([1000, 8, 128, 64]), \n",
            "values.size(): torch.Size([1000, 8, 128, 64]), attention.size:torch.Size([1000, 8, 128, 128]) \n",
            "values.size(): torch.Size([1000, 128, 512])\n",
            "out.size(): torch.Size([1000, 128, 512])\n"
          ]
        }
      ]
    },
    {
      "cell_type": "code",
      "source": [
        "for i in [2,4,8,16,32,64,128]:\n",
        "\n",
        "    # Instantiating model\n",
        "    model = HyenaOperator(\n",
        "        d_model=d_model,\n",
        "        l_max=sequence_length,\n",
        "        order=i,\n",
        "        filter_order=64\n",
        "    ).to(device)\n",
        "\n",
        "    # starting a new wandb run to track this script\n",
        "    wandb.init(\n",
        "\n",
        "        project=\"HyenaStats\",\n",
        "\n",
        "        config={\n",
        "        \"learning_rate\": 0.001,\n",
        "        \"architecture\": \"Hyena\",\n",
        "        \"dataset\": \"MHA Outputs\",\n",
        "        \"epochs\": 10,\n",
        "        }\n",
        "    )\n",
        "\n",
        "    wandb.watch(model, log_freq=100)\n",
        "\n",
        "    # Defining loss function and optimizer\n",
        "    criterion = nn.MSELoss()\n",
        "    optimizer = torch.optim.Adam(model.parameters(), lr=0.001)\n",
        "\n",
        "    # Performing train-test split\n",
        "    total_data = TensorDataset(x, out)\n",
        "    train_size = int(0.8 * len(total_data))\n",
        "    test_size = len(total_data) - train_size\n",
        "    train_dataset, test_dataset = random_split(total_data, [train_size, test_size])\n",
        "\n",
        "    # DataLoader for training and testing\n",
        "    batch_size = 20\n",
        "    train_loader = DataLoader(train_dataset, batch_size=batch_size, shuffle=True)\n",
        "    test_loader = DataLoader(test_dataset, batch_size=batch_size, shuffle=False)\n",
        "\n",
        "    # Training loop\n",
        "    num_epochs = 10\n",
        "    for epoch in range(num_epochs):\n",
        "        model.train()\n",
        "        for batch_idx, (inputs, targets) in enumerate(train_loader):\n",
        "            # Forward pass\n",
        "            outputs = model(inputs)\n",
        "            loss = criterion(outputs, targets)\n",
        "\n",
        "            # Backward and optimize\n",
        "            optimizer.zero_grad()\n",
        "            loss.backward(retain_graph = True)\n",
        "            optimizer.step()\n",
        "\n",
        "            wandb.log({\"loss\": loss, \"epoch\": epoch})\n",
        "\n",
        "        print('Epoch [{}/{}], Step [{}/{}], Loss: {:.4f}'.format(epoch+1, num_epochs, batch_idx+1, len(train_loader), loss.item()))\n",
        "\n",
        "    # Testing the model\n",
        "    model.eval()\n",
        "    total_mse = 0.0\n",
        "    with torch.no_grad():\n",
        "        for inputs, targets in test_loader:\n",
        "            outputs = model(inputs)\n",
        "            mse = criterion(outputs, targets)\n",
        "            total_mse += mse.item()\n",
        "\n",
        "        average_mse = total_mse / len(test_loader)\n",
        "        wandb.log({\"error\": average_mse})\n",
        "        print('Mean Squared Error on the test set: {:.4f}'.format(average_mse))\n",
        "\n",
        "    wandb.finish()"
      ],
      "metadata": {
        "id": "Rwns1HoLnfsO",
        "colab": {
          "base_uri": "https://localhost:8080/",
          "height": 1000,
          "referenced_widgets": [
            "39c4dfffc5e140d190d6f7ef5ca75cc8",
            "b9fa8725e0d147d39c4342860ba4f4bf",
            "ba1cdc7fcaa94702a8ea7629a11bcebe",
            "7b54d02812cd474fb7aee8ea4de99db4",
            "5ae7708a789140209a2ff1d4967da8e0",
            "bd1a644503504d34ab6eb28ba6ae4448",
            "9e33d68b903345db9ec79b244119666f",
            "eb397069dc4248849b3a5ed408f2363c",
            "0980834b49c4496e9b714a69e1bf374b",
            "d5054dbfcedb4d98be5f0e64bf84fd19",
            "9db896c7ebb14e3dbaacd6617f35b5ec",
            "3abd537fd81b4e34a33c0a2dde214422",
            "d2fdfefad93641d586cbad529e8cc4e2",
            "62e5b2c2cbe34c9597a43da7f088026c",
            "c566fa204f92411986e0d7b76a5b8e3b",
            "9ee184dfcf1e498d964665cae013e6b6",
            "73b880025d7a4bf99b52f23954e9edc6",
            "c0d1dbf2a83d43e9aa842a6f4d7132c2",
            "1dabdf3c69534b09b692461197141e75",
            "378bbf6d97bb4f499d89beb7e0e56453",
            "41d86f3cf1524610b4e5e8c7b742195b",
            "880e18912c004b1f97c12ae8c5ea2516",
            "0dde9e0e642e49509d3843c97e24035b",
            "4376287d9b024873825c30f8db7804bf",
            "04bb21d00cbd4c81b36970a167b00864",
            "39d6ae627bbb41e9a0854aa96378a531",
            "84afaf99b34c4cb0b8e2810c4485f06c",
            "d8ceafd2c91348459a582e8c390f50a3",
            "8d8bc50dfb6d42aebf271230375ad983",
            "a9ea341bf2444d1d9da7ca209474454a",
            "2078855a6e85458db4628ca9a9431203",
            "3676638d1678451da1f5f1af6493becc",
            "e513fbd1507341b6a63204130daad7d8",
            "34ef3d1647704aad9edd4879c8e833e9",
            "598ac5d576ac4068b3f0a6008f04d230",
            "409838118a2542c89f5ad083fbe1c4de",
            "0cba5b0693724428978cabdb99dd174e",
            "0ba349a0143f4336bcbbe343e0356c72",
            "ae920661d5de47faacc2c6efe79881ee",
            "496212ddea01403cb45a7c5acd041010",
            "d53a356433b04bd38a966c70c5aa66e8",
            "fb229d327a3341d6b487cd7e28eb1f3c",
            "55217aac00bb4c6a8b077799c8d909ca",
            "28484830135e4342a3707f30c3d02317",
            "6c07b4a2165f4808bd390023051bc807",
            "a2b97e8b233f490580f44e98d0770d22",
            "936a42094034434e83f64d13aea79210",
            "04514d13c450459fb53f90746a79edb7",
            "76c8fd25bbef4525b03ea160b8db6f9f",
            "41fbd33156564503852d9e3d2a9fbaa2",
            "8824263c7c7f43f8981dc74323da3ff5",
            "c680c3e571824280be452c0c21e187f8",
            "bf162f66e0ca4b76b42de6dc553ee456",
            "a35e749723934c83b7fbbcea4a378049",
            "7d974f9ce96047d39cfef515dcef53ef",
            "7690ca9a6ace4f23a880bea17ebc372d"
          ]
        },
        "outputId": "62505fa9-8c5c-4cae-8973-e9a5afa65c00"
      },
      "execution_count": null,
      "outputs": [
        {
          "output_type": "display_data",
          "data": {
            "text/plain": [
              "<IPython.core.display.HTML object>"
            ],
            "text/html": [
              "Tracking run with wandb version 0.16.1"
            ]
          },
          "metadata": {}
        },
        {
          "output_type": "display_data",
          "data": {
            "text/plain": [
              "<IPython.core.display.HTML object>"
            ],
            "text/html": [
              "Run data is saved locally in <code>/content/wandb/run-20231218_204950-t4kyhri1</code>"
            ]
          },
          "metadata": {}
        },
        {
          "output_type": "display_data",
          "data": {
            "text/plain": [
              "<IPython.core.display.HTML object>"
            ],
            "text/html": [
              "Syncing run <strong><a href='https://wandb.ai/ana-avhale/HyenaStats/runs/t4kyhri1' target=\"_blank\">quiet-totem-5</a></strong> to <a href='https://wandb.ai/ana-avhale/HyenaStats' target=\"_blank\">Weights & Biases</a> (<a href='https://wandb.me/run' target=\"_blank\">docs</a>)<br/>"
            ]
          },
          "metadata": {}
        },
        {
          "output_type": "display_data",
          "data": {
            "text/plain": [
              "<IPython.core.display.HTML object>"
            ],
            "text/html": [
              " View project at <a href='https://wandb.ai/ana-avhale/HyenaStats' target=\"_blank\">https://wandb.ai/ana-avhale/HyenaStats</a>"
            ]
          },
          "metadata": {}
        },
        {
          "output_type": "display_data",
          "data": {
            "text/plain": [
              "<IPython.core.display.HTML object>"
            ],
            "text/html": [
              " View run at <a href='https://wandb.ai/ana-avhale/HyenaStats/runs/t4kyhri1' target=\"_blank\">https://wandb.ai/ana-avhale/HyenaStats/runs/t4kyhri1</a>"
            ]
          },
          "metadata": {}
        },
        {
          "output_type": "stream",
          "name": "stdout",
          "text": [
            "Epoch [1/10], Step [40/40], Loss: 0.0012\n",
            "Epoch [2/10], Step [40/40], Loss: 0.0012\n",
            "Epoch [3/10], Step [40/40], Loss: 0.0012\n",
            "Epoch [4/10], Step [40/40], Loss: 0.0011\n",
            "Epoch [5/10], Step [40/40], Loss: 0.0011\n",
            "Epoch [6/10], Step [40/40], Loss: 0.0011\n",
            "Epoch [7/10], Step [40/40], Loss: 0.0010\n",
            "Epoch [8/10], Step [40/40], Loss: 0.0010\n",
            "Epoch [9/10], Step [40/40], Loss: 0.0009\n",
            "Epoch [10/10], Step [40/40], Loss: 0.0009\n",
            "Mean Squared Error on the test set: 0.0013\n"
          ]
        },
        {
          "output_type": "display_data",
          "data": {
            "text/plain": [
              "VBox(children=(Label(value='0.001 MB of 0.041 MB uploaded\\r'), FloatProgress(value=0.02823529411764706, max=1.…"
            ],
            "application/vnd.jupyter.widget-view+json": {
              "version_major": 2,
              "version_minor": 0,
              "model_id": "39c4dfffc5e140d190d6f7ef5ca75cc8"
            }
          },
          "metadata": {}
        },
        {
          "output_type": "display_data",
          "data": {
            "text/plain": [
              "<IPython.core.display.HTML object>"
            ],
            "text/html": [
              "<style>\n",
              "    table.wandb td:nth-child(1) { padding: 0 10px; text-align: left ; width: auto;} td:nth-child(2) {text-align: left ; width: 100%}\n",
              "    .wandb-row { display: flex; flex-direction: row; flex-wrap: wrap; justify-content: flex-start; width: 100% }\n",
              "    .wandb-col { display: flex; flex-direction: column; flex-basis: 100%; flex: 1; padding: 10px; }\n",
              "    </style>\n",
              "<div class=\"wandb-row\"><div class=\"wandb-col\"><h3>Run history:</h3><br/><table class=\"wandb\"><tr><td>epoch</td><td>▁▁▁▁▂▂▂▂▃▃▃▃▃▃▃▃▄▄▄▄▅▅▅▅▆▆▆▆▆▆▆▆▇▇▇▇████</td></tr><tr><td>error</td><td>▁</td></tr><tr><td>loss</td><td>█▄▂▂▂▂▂▂▂▂▂▂▂▂▂▂▂▂▂▂▂▂▂▂▁▁▁▁▁▁▁▁▁▁▁▁▁▁▁▁</td></tr></table><br/></div><div class=\"wandb-col\"><h3>Run summary:</h3><br/><table class=\"wandb\"><tr><td>epoch</td><td>9</td></tr><tr><td>error</td><td>0.00131</td></tr><tr><td>loss</td><td>0.00092</td></tr></table><br/></div></div>"
            ]
          },
          "metadata": {}
        },
        {
          "output_type": "display_data",
          "data": {
            "text/plain": [
              "<IPython.core.display.HTML object>"
            ],
            "text/html": [
              " View run <strong style=\"color:#cdcd00\">quiet-totem-5</strong> at: <a href='https://wandb.ai/ana-avhale/HyenaStats/runs/t4kyhri1' target=\"_blank\">https://wandb.ai/ana-avhale/HyenaStats/runs/t4kyhri1</a><br/>Synced 5 W&B file(s), 0 media file(s), 0 artifact file(s) and 0 other file(s)"
            ]
          },
          "metadata": {}
        },
        {
          "output_type": "display_data",
          "data": {
            "text/plain": [
              "<IPython.core.display.HTML object>"
            ],
            "text/html": [
              "Find logs at: <code>./wandb/run-20231218_204950-t4kyhri1/logs</code>"
            ]
          },
          "metadata": {}
        },
        {
          "output_type": "display_data",
          "data": {
            "text/plain": [
              "<IPython.core.display.HTML object>"
            ],
            "text/html": [
              "Tracking run with wandb version 0.16.1"
            ]
          },
          "metadata": {}
        },
        {
          "output_type": "display_data",
          "data": {
            "text/plain": [
              "<IPython.core.display.HTML object>"
            ],
            "text/html": [
              "Run data is saved locally in <code>/content/wandb/run-20231218_205357-zs7j37bw</code>"
            ]
          },
          "metadata": {}
        },
        {
          "output_type": "display_data",
          "data": {
            "text/plain": [
              "<IPython.core.display.HTML object>"
            ],
            "text/html": [
              "Syncing run <strong><a href='https://wandb.ai/ana-avhale/HyenaStats/runs/zs7j37bw' target=\"_blank\">balmy-cherry-6</a></strong> to <a href='https://wandb.ai/ana-avhale/HyenaStats' target=\"_blank\">Weights & Biases</a> (<a href='https://wandb.me/run' target=\"_blank\">docs</a>)<br/>"
            ]
          },
          "metadata": {}
        },
        {
          "output_type": "display_data",
          "data": {
            "text/plain": [
              "<IPython.core.display.HTML object>"
            ],
            "text/html": [
              " View project at <a href='https://wandb.ai/ana-avhale/HyenaStats' target=\"_blank\">https://wandb.ai/ana-avhale/HyenaStats</a>"
            ]
          },
          "metadata": {}
        },
        {
          "output_type": "display_data",
          "data": {
            "text/plain": [
              "<IPython.core.display.HTML object>"
            ],
            "text/html": [
              " View run at <a href='https://wandb.ai/ana-avhale/HyenaStats/runs/zs7j37bw' target=\"_blank\">https://wandb.ai/ana-avhale/HyenaStats/runs/zs7j37bw</a>"
            ]
          },
          "metadata": {}
        },
        {
          "output_type": "stream",
          "name": "stdout",
          "text": [
            "Epoch [1/10], Step [40/40], Loss: 0.0012\n",
            "Epoch [2/10], Step [40/40], Loss: 0.0011\n",
            "Epoch [3/10], Step [40/40], Loss: 0.0011\n",
            "Epoch [4/10], Step [40/40], Loss: 0.0011\n",
            "Epoch [5/10], Step [40/40], Loss: 0.0010\n",
            "Epoch [6/10], Step [40/40], Loss: 0.0009\n",
            "Epoch [7/10], Step [40/40], Loss: 0.0008\n",
            "Epoch [8/10], Step [40/40], Loss: 0.0007\n",
            "Epoch [9/10], Step [40/40], Loss: 0.0007\n",
            "Epoch [10/10], Step [40/40], Loss: 0.0006\n",
            "Mean Squared Error on the test set: 0.0015\n"
          ]
        },
        {
          "output_type": "display_data",
          "data": {
            "text/plain": [
              "VBox(children=(Label(value='0.001 MB of 0.041 MB uploaded\\r'), FloatProgress(value=0.02817063355179947, max=1.…"
            ],
            "application/vnd.jupyter.widget-view+json": {
              "version_major": 2,
              "version_minor": 0,
              "model_id": "0980834b49c4496e9b714a69e1bf374b"
            }
          },
          "metadata": {}
        },
        {
          "output_type": "display_data",
          "data": {
            "text/plain": [
              "<IPython.core.display.HTML object>"
            ],
            "text/html": [
              "<style>\n",
              "    table.wandb td:nth-child(1) { padding: 0 10px; text-align: left ; width: auto;} td:nth-child(2) {text-align: left ; width: 100%}\n",
              "    .wandb-row { display: flex; flex-direction: row; flex-wrap: wrap; justify-content: flex-start; width: 100% }\n",
              "    .wandb-col { display: flex; flex-direction: column; flex-basis: 100%; flex: 1; padding: 10px; }\n",
              "    </style>\n",
              "<div class=\"wandb-row\"><div class=\"wandb-col\"><h3>Run history:</h3><br/><table class=\"wandb\"><tr><td>epoch</td><td>▁▁▁▁▂▂▂▂▃▃▃▃▃▃▃▃▄▄▄▄▅▅▅▅▆▆▆▆▆▆▆▆▇▇▇▇████</td></tr><tr><td>error</td><td>▁</td></tr><tr><td>loss</td><td>█▅▄▄▄▃▃▃▃▃▃▃▃▃▃▃▃▃▃▃▂▂▂▃▂▂▂▂▁▂▂▂▁▁▁▁▁▁▁▁</td></tr></table><br/></div><div class=\"wandb-col\"><h3>Run summary:</h3><br/><table class=\"wandb\"><tr><td>epoch</td><td>9</td></tr><tr><td>error</td><td>0.00146</td></tr><tr><td>loss</td><td>0.0006</td></tr></table><br/></div></div>"
            ]
          },
          "metadata": {}
        },
        {
          "output_type": "display_data",
          "data": {
            "text/plain": [
              "<IPython.core.display.HTML object>"
            ],
            "text/html": [
              " View run <strong style=\"color:#cdcd00\">balmy-cherry-6</strong> at: <a href='https://wandb.ai/ana-avhale/HyenaStats/runs/zs7j37bw' target=\"_blank\">https://wandb.ai/ana-avhale/HyenaStats/runs/zs7j37bw</a><br/>Synced 5 W&B file(s), 0 media file(s), 0 artifact file(s) and 0 other file(s)"
            ]
          },
          "metadata": {}
        },
        {
          "output_type": "display_data",
          "data": {
            "text/plain": [
              "<IPython.core.display.HTML object>"
            ],
            "text/html": [
              "Find logs at: <code>./wandb/run-20231218_205357-zs7j37bw/logs</code>"
            ]
          },
          "metadata": {}
        },
        {
          "output_type": "display_data",
          "data": {
            "text/plain": [
              "<IPython.core.display.HTML object>"
            ],
            "text/html": [
              "Tracking run with wandb version 0.16.1"
            ]
          },
          "metadata": {}
        },
        {
          "output_type": "display_data",
          "data": {
            "text/plain": [
              "<IPython.core.display.HTML object>"
            ],
            "text/html": [
              "Run data is saved locally in <code>/content/wandb/run-20231218_205808-201q7mdm</code>"
            ]
          },
          "metadata": {}
        },
        {
          "output_type": "display_data",
          "data": {
            "text/plain": [
              "<IPython.core.display.HTML object>"
            ],
            "text/html": [
              "Syncing run <strong><a href='https://wandb.ai/ana-avhale/HyenaStats/runs/201q7mdm' target=\"_blank\">celestial-cherry-7</a></strong> to <a href='https://wandb.ai/ana-avhale/HyenaStats' target=\"_blank\">Weights & Biases</a> (<a href='https://wandb.me/run' target=\"_blank\">docs</a>)<br/>"
            ]
          },
          "metadata": {}
        },
        {
          "output_type": "display_data",
          "data": {
            "text/plain": [
              "<IPython.core.display.HTML object>"
            ],
            "text/html": [
              " View project at <a href='https://wandb.ai/ana-avhale/HyenaStats' target=\"_blank\">https://wandb.ai/ana-avhale/HyenaStats</a>"
            ]
          },
          "metadata": {}
        },
        {
          "output_type": "display_data",
          "data": {
            "text/plain": [
              "<IPython.core.display.HTML object>"
            ],
            "text/html": [
              " View run at <a href='https://wandb.ai/ana-avhale/HyenaStats/runs/201q7mdm' target=\"_blank\">https://wandb.ai/ana-avhale/HyenaStats/runs/201q7mdm</a>"
            ]
          },
          "metadata": {}
        },
        {
          "output_type": "stream",
          "name": "stdout",
          "text": [
            "Epoch [1/10], Step [40/40], Loss: 0.0012\n",
            "Epoch [2/10], Step [40/40], Loss: 0.0012\n",
            "Epoch [3/10], Step [40/40], Loss: 0.0011\n",
            "Epoch [4/10], Step [40/40], Loss: 0.0011\n",
            "Epoch [5/10], Step [40/40], Loss: 0.0010\n",
            "Epoch [6/10], Step [40/40], Loss: 0.0011\n",
            "Epoch [7/10], Step [40/40], Loss: 0.0012\n",
            "Epoch [8/10], Step [40/40], Loss: 0.0016\n",
            "Epoch [9/10], Step [40/40], Loss: 0.6165\n",
            "Epoch [10/10], Step [40/40], Loss: 90654880.0000\n",
            "Mean Squared Error on the test set: 1.6650\n"
          ]
        },
        {
          "output_type": "display_data",
          "data": {
            "text/plain": [
              "VBox(children=(Label(value='0.001 MB of 0.030 MB uploaded\\r'), FloatProgress(value=0.03834355828220859, max=1.…"
            ],
            "application/vnd.jupyter.widget-view+json": {
              "version_major": 2,
              "version_minor": 0,
              "model_id": "73b880025d7a4bf99b52f23954e9edc6"
            }
          },
          "metadata": {}
        },
        {
          "output_type": "display_data",
          "data": {
            "text/plain": [
              "<IPython.core.display.HTML object>"
            ],
            "text/html": [
              "<style>\n",
              "    table.wandb td:nth-child(1) { padding: 0 10px; text-align: left ; width: auto;} td:nth-child(2) {text-align: left ; width: 100%}\n",
              "    .wandb-row { display: flex; flex-direction: row; flex-wrap: wrap; justify-content: flex-start; width: 100% }\n",
              "    .wandb-col { display: flex; flex-direction: column; flex-basis: 100%; flex: 1; padding: 10px; }\n",
              "    </style>\n",
              "<div class=\"wandb-row\"><div class=\"wandb-col\"><h3>Run history:</h3><br/><table class=\"wandb\"><tr><td>epoch</td><td>▁▁▁▁▂▂▂▂▃▃▃▃▃▃▃▃▄▄▄▄▅▅▅▅▆▆▆▆▆▆▆▆▇▇▇▇████</td></tr><tr><td>error</td><td>▁</td></tr><tr><td>loss</td><td>▁▁▁▁▁▁▁▁▁▁▁▁▁▁▁▁▁▁▁▁▁▁▁▁▁▁▁▁▁▁▁▁▁▁▁▁▁▁▁█</td></tr></table><br/></div><div class=\"wandb-col\"><h3>Run summary:</h3><br/><table class=\"wandb\"><tr><td>epoch</td><td>9</td></tr><tr><td>error</td><td>1.66496</td></tr><tr><td>loss</td><td>90654880.0</td></tr></table><br/></div></div>"
            ]
          },
          "metadata": {}
        },
        {
          "output_type": "display_data",
          "data": {
            "text/plain": [
              "<IPython.core.display.HTML object>"
            ],
            "text/html": [
              " View run <strong style=\"color:#cdcd00\">celestial-cherry-7</strong> at: <a href='https://wandb.ai/ana-avhale/HyenaStats/runs/201q7mdm' target=\"_blank\">https://wandb.ai/ana-avhale/HyenaStats/runs/201q7mdm</a><br/>Synced 5 W&B file(s), 0 media file(s), 0 artifact file(s) and 0 other file(s)"
            ]
          },
          "metadata": {}
        },
        {
          "output_type": "display_data",
          "data": {
            "text/plain": [
              "<IPython.core.display.HTML object>"
            ],
            "text/html": [
              "Find logs at: <code>./wandb/run-20231218_205808-201q7mdm/logs</code>"
            ]
          },
          "metadata": {}
        },
        {
          "output_type": "display_data",
          "data": {
            "text/plain": [
              "<IPython.core.display.HTML object>"
            ],
            "text/html": [
              "Tracking run with wandb version 0.16.1"
            ]
          },
          "metadata": {}
        },
        {
          "output_type": "display_data",
          "data": {
            "text/plain": [
              "<IPython.core.display.HTML object>"
            ],
            "text/html": [
              "Run data is saved locally in <code>/content/wandb/run-20231218_210226-cp145yn8</code>"
            ]
          },
          "metadata": {}
        },
        {
          "output_type": "display_data",
          "data": {
            "text/plain": [
              "<IPython.core.display.HTML object>"
            ],
            "text/html": [
              "Syncing run <strong><a href='https://wandb.ai/ana-avhale/HyenaStats/runs/cp145yn8' target=\"_blank\">classic-durian-8</a></strong> to <a href='https://wandb.ai/ana-avhale/HyenaStats' target=\"_blank\">Weights & Biases</a> (<a href='https://wandb.me/run' target=\"_blank\">docs</a>)<br/>"
            ]
          },
          "metadata": {}
        },
        {
          "output_type": "display_data",
          "data": {
            "text/plain": [
              "<IPython.core.display.HTML object>"
            ],
            "text/html": [
              " View project at <a href='https://wandb.ai/ana-avhale/HyenaStats' target=\"_blank\">https://wandb.ai/ana-avhale/HyenaStats</a>"
            ]
          },
          "metadata": {}
        },
        {
          "output_type": "display_data",
          "data": {
            "text/plain": [
              "<IPython.core.display.HTML object>"
            ],
            "text/html": [
              " View run at <a href='https://wandb.ai/ana-avhale/HyenaStats/runs/cp145yn8' target=\"_blank\">https://wandb.ai/ana-avhale/HyenaStats/runs/cp145yn8</a>"
            ]
          },
          "metadata": {}
        },
        {
          "output_type": "stream",
          "name": "stdout",
          "text": [
            "Epoch [1/10], Step [40/40], Loss: 0.0013\n",
            "Epoch [2/10], Step [40/40], Loss: 0.0012\n",
            "Epoch [3/10], Step [40/40], Loss: 0.0012\n",
            "Epoch [4/10], Step [40/40], Loss: 0.0012\n",
            "Epoch [5/10], Step [40/40], Loss: 0.0011\n",
            "Epoch [6/10], Step [40/40], Loss: 0.0011\n",
            "Epoch [7/10], Step [40/40], Loss: 0.0011\n",
            "Epoch [8/10], Step [40/40], Loss: 0.0011\n",
            "Epoch [9/10], Step [40/40], Loss: 0.0012\n",
            "Epoch [10/10], Step [40/40], Loss: 0.0012\n",
            "Mean Squared Error on the test set: 0.0012\n"
          ]
        },
        {
          "output_type": "display_data",
          "data": {
            "text/plain": [
              "VBox(children=(Label(value='0.001 MB of 0.001 MB uploaded\\r'), FloatProgress(value=1.0, max=1.0)))"
            ],
            "application/vnd.jupyter.widget-view+json": {
              "version_major": 2,
              "version_minor": 0,
              "model_id": "04bb21d00cbd4c81b36970a167b00864"
            }
          },
          "metadata": {}
        },
        {
          "output_type": "display_data",
          "data": {
            "text/plain": [
              "<IPython.core.display.HTML object>"
            ],
            "text/html": [
              "<style>\n",
              "    table.wandb td:nth-child(1) { padding: 0 10px; text-align: left ; width: auto;} td:nth-child(2) {text-align: left ; width: 100%}\n",
              "    .wandb-row { display: flex; flex-direction: row; flex-wrap: wrap; justify-content: flex-start; width: 100% }\n",
              "    .wandb-col { display: flex; flex-direction: column; flex-basis: 100%; flex: 1; padding: 10px; }\n",
              "    </style>\n",
              "<div class=\"wandb-row\"><div class=\"wandb-col\"><h3>Run history:</h3><br/><table class=\"wandb\"><tr><td>epoch</td><td>▁▁▁▁▂▂▂▂▃▃▃▃▃▃▃▃▄▄▄▄▅▅▅▅▆▆▆▆▆▆▆▆▇▇▇▇████</td></tr><tr><td>error</td><td>▁</td></tr><tr><td>loss</td><td>█▆▄▃▂▂▁▂▁▁▁▁▁▁▁▁▁▁▁▁▁▁▁▁▁▁▁▁▁▁▁▁▁▁▁▁▁▁▁▂</td></tr></table><br/></div><div class=\"wandb-col\"><h3>Run summary:</h3><br/><table class=\"wandb\"><tr><td>epoch</td><td>9</td></tr><tr><td>error</td><td>0.00116</td></tr><tr><td>loss</td><td>0.0012</td></tr></table><br/></div></div>"
            ]
          },
          "metadata": {}
        },
        {
          "output_type": "display_data",
          "data": {
            "text/plain": [
              "<IPython.core.display.HTML object>"
            ],
            "text/html": [
              " View run <strong style=\"color:#cdcd00\">classic-durian-8</strong> at: <a href='https://wandb.ai/ana-avhale/HyenaStats/runs/cp145yn8' target=\"_blank\">https://wandb.ai/ana-avhale/HyenaStats/runs/cp145yn8</a><br/>Synced 5 W&B file(s), 0 media file(s), 0 artifact file(s) and 0 other file(s)"
            ]
          },
          "metadata": {}
        },
        {
          "output_type": "display_data",
          "data": {
            "text/plain": [
              "<IPython.core.display.HTML object>"
            ],
            "text/html": [
              "Find logs at: <code>./wandb/run-20231218_210226-cp145yn8/logs</code>"
            ]
          },
          "metadata": {}
        },
        {
          "output_type": "display_data",
          "data": {
            "text/plain": [
              "<IPython.core.display.HTML object>"
            ],
            "text/html": [
              "Tracking run with wandb version 0.16.1"
            ]
          },
          "metadata": {}
        },
        {
          "output_type": "display_data",
          "data": {
            "text/plain": [
              "<IPython.core.display.HTML object>"
            ],
            "text/html": [
              "Run data is saved locally in <code>/content/wandb/run-20231218_210659-rukey7j8</code>"
            ]
          },
          "metadata": {}
        },
        {
          "output_type": "display_data",
          "data": {
            "text/plain": [
              "<IPython.core.display.HTML object>"
            ],
            "text/html": [
              "Syncing run <strong><a href='https://wandb.ai/ana-avhale/HyenaStats/runs/rukey7j8' target=\"_blank\">ethereal-firebrand-9</a></strong> to <a href='https://wandb.ai/ana-avhale/HyenaStats' target=\"_blank\">Weights & Biases</a> (<a href='https://wandb.me/run' target=\"_blank\">docs</a>)<br/>"
            ]
          },
          "metadata": {}
        },
        {
          "output_type": "display_data",
          "data": {
            "text/plain": [
              "<IPython.core.display.HTML object>"
            ],
            "text/html": [
              " View project at <a href='https://wandb.ai/ana-avhale/HyenaStats' target=\"_blank\">https://wandb.ai/ana-avhale/HyenaStats</a>"
            ]
          },
          "metadata": {}
        },
        {
          "output_type": "display_data",
          "data": {
            "text/plain": [
              "<IPython.core.display.HTML object>"
            ],
            "text/html": [
              " View run at <a href='https://wandb.ai/ana-avhale/HyenaStats/runs/rukey7j8' target=\"_blank\">https://wandb.ai/ana-avhale/HyenaStats/runs/rukey7j8</a>"
            ]
          },
          "metadata": {}
        },
        {
          "output_type": "stream",
          "name": "stdout",
          "text": [
            "Epoch [1/10], Step [40/40], Loss: 0.0014\n",
            "Epoch [2/10], Step [40/40], Loss: 0.0012\n",
            "Epoch [3/10], Step [40/40], Loss: 0.0012\n",
            "Epoch [4/10], Step [40/40], Loss: 0.0012\n",
            "Epoch [5/10], Step [40/40], Loss: 0.0012\n",
            "Epoch [6/10], Step [40/40], Loss: 0.0012\n",
            "Epoch [7/10], Step [40/40], Loss: 0.0012\n",
            "Epoch [8/10], Step [40/40], Loss: 0.0012\n",
            "Epoch [9/10], Step [40/40], Loss: 0.0012\n",
            "Epoch [10/10], Step [40/40], Loss: 0.0012\n",
            "Mean Squared Error on the test set: 0.0012\n"
          ]
        },
        {
          "output_type": "display_data",
          "data": {
            "text/plain": [
              "VBox(children=(Label(value='0.001 MB of 0.001 MB uploaded\\r'), FloatProgress(value=1.0, max=1.0)))"
            ],
            "application/vnd.jupyter.widget-view+json": {
              "version_major": 2,
              "version_minor": 0,
              "model_id": "e513fbd1507341b6a63204130daad7d8"
            }
          },
          "metadata": {}
        },
        {
          "output_type": "display_data",
          "data": {
            "text/plain": [
              "<IPython.core.display.HTML object>"
            ],
            "text/html": [
              "<style>\n",
              "    table.wandb td:nth-child(1) { padding: 0 10px; text-align: left ; width: auto;} td:nth-child(2) {text-align: left ; width: 100%}\n",
              "    .wandb-row { display: flex; flex-direction: row; flex-wrap: wrap; justify-content: flex-start; width: 100% }\n",
              "    .wandb-col { display: flex; flex-direction: column; flex-basis: 100%; flex: 1; padding: 10px; }\n",
              "    </style>\n",
              "<div class=\"wandb-row\"><div class=\"wandb-col\"><h3>Run history:</h3><br/><table class=\"wandb\"><tr><td>epoch</td><td>▁▁▁▁▂▂▂▂▃▃▃▃▃▃▃▃▄▄▄▄▅▅▅▅▆▆▆▆▆▆▆▆▇▇▇▇████</td></tr><tr><td>error</td><td>▁</td></tr><tr><td>loss</td><td>█▆▄▃▂▂▂▁▁▂▁▁▁▁▁▁▁▁▁▁▁▁▁▁▁▁▁▁▁▁▁▁▁▁▁▁▁▁▁▁</td></tr></table><br/></div><div class=\"wandb-col\"><h3>Run summary:</h3><br/><table class=\"wandb\"><tr><td>epoch</td><td>9</td></tr><tr><td>error</td><td>0.00119</td></tr><tr><td>loss</td><td>0.00118</td></tr></table><br/></div></div>"
            ]
          },
          "metadata": {}
        },
        {
          "output_type": "display_data",
          "data": {
            "text/plain": [
              "<IPython.core.display.HTML object>"
            ],
            "text/html": [
              " View run <strong style=\"color:#cdcd00\">ethereal-firebrand-9</strong> at: <a href='https://wandb.ai/ana-avhale/HyenaStats/runs/rukey7j8' target=\"_blank\">https://wandb.ai/ana-avhale/HyenaStats/runs/rukey7j8</a><br/>Synced 5 W&B file(s), 0 media file(s), 0 artifact file(s) and 0 other file(s)"
            ]
          },
          "metadata": {}
        },
        {
          "output_type": "display_data",
          "data": {
            "text/plain": [
              "<IPython.core.display.HTML object>"
            ],
            "text/html": [
              "Find logs at: <code>./wandb/run-20231218_210659-rukey7j8/logs</code>"
            ]
          },
          "metadata": {}
        },
        {
          "output_type": "display_data",
          "data": {
            "text/plain": [
              "<IPython.core.display.HTML object>"
            ],
            "text/html": [
              "Tracking run with wandb version 0.16.1"
            ]
          },
          "metadata": {}
        },
        {
          "output_type": "display_data",
          "data": {
            "text/plain": [
              "<IPython.core.display.HTML object>"
            ],
            "text/html": [
              "Run data is saved locally in <code>/content/wandb/run-20231218_211157-j3jfxfok</code>"
            ]
          },
          "metadata": {}
        },
        {
          "output_type": "display_data",
          "data": {
            "text/plain": [
              "<IPython.core.display.HTML object>"
            ],
            "text/html": [
              "Syncing run <strong><a href='https://wandb.ai/ana-avhale/HyenaStats/runs/j3jfxfok' target=\"_blank\">true-glade-10</a></strong> to <a href='https://wandb.ai/ana-avhale/HyenaStats' target=\"_blank\">Weights & Biases</a> (<a href='https://wandb.me/run' target=\"_blank\">docs</a>)<br/>"
            ]
          },
          "metadata": {}
        },
        {
          "output_type": "display_data",
          "data": {
            "text/plain": [
              "<IPython.core.display.HTML object>"
            ],
            "text/html": [
              " View project at <a href='https://wandb.ai/ana-avhale/HyenaStats' target=\"_blank\">https://wandb.ai/ana-avhale/HyenaStats</a>"
            ]
          },
          "metadata": {}
        },
        {
          "output_type": "display_data",
          "data": {
            "text/plain": [
              "<IPython.core.display.HTML object>"
            ],
            "text/html": [
              " View run at <a href='https://wandb.ai/ana-avhale/HyenaStats/runs/j3jfxfok' target=\"_blank\">https://wandb.ai/ana-avhale/HyenaStats/runs/j3jfxfok</a>"
            ]
          },
          "metadata": {}
        },
        {
          "output_type": "stream",
          "name": "stdout",
          "text": [
            "Epoch [1/10], Step [40/40], Loss: 0.0014\n",
            "Epoch [2/10], Step [40/40], Loss: 0.0012\n",
            "Epoch [3/10], Step [40/40], Loss: 0.0012\n",
            "Epoch [4/10], Step [40/40], Loss: 0.0012\n",
            "Epoch [5/10], Step [40/40], Loss: 0.0012\n",
            "Epoch [6/10], Step [40/40], Loss: 0.0012\n",
            "Epoch [7/10], Step [40/40], Loss: 0.0011\n",
            "Epoch [8/10], Step [40/40], Loss: 0.0012\n",
            "Epoch [9/10], Step [40/40], Loss: 0.0012\n",
            "Epoch [10/10], Step [40/40], Loss: 0.0012\n",
            "Mean Squared Error on the test set: 0.0012\n"
          ]
        },
        {
          "output_type": "display_data",
          "data": {
            "text/plain": [
              "VBox(children=(Label(value='0.001 MB of 0.001 MB uploaded\\r'), FloatProgress(value=1.0, max=1.0)))"
            ],
            "application/vnd.jupyter.widget-view+json": {
              "version_major": 2,
              "version_minor": 0,
              "model_id": "d53a356433b04bd38a966c70c5aa66e8"
            }
          },
          "metadata": {}
        },
        {
          "output_type": "display_data",
          "data": {
            "text/plain": [
              "<IPython.core.display.HTML object>"
            ],
            "text/html": [
              "<style>\n",
              "    table.wandb td:nth-child(1) { padding: 0 10px; text-align: left ; width: auto;} td:nth-child(2) {text-align: left ; width: 100%}\n",
              "    .wandb-row { display: flex; flex-direction: row; flex-wrap: wrap; justify-content: flex-start; width: 100% }\n",
              "    .wandb-col { display: flex; flex-direction: column; flex-basis: 100%; flex: 1; padding: 10px; }\n",
              "    </style>\n",
              "<div class=\"wandb-row\"><div class=\"wandb-col\"><h3>Run history:</h3><br/><table class=\"wandb\"><tr><td>epoch</td><td>▁▁▁▁▂▂▂▂▃▃▃▃▃▃▃▃▄▄▄▄▅▅▅▅▆▆▆▆▆▆▆▆▇▇▇▇████</td></tr><tr><td>error</td><td>▁</td></tr><tr><td>loss</td><td>█▆▄▃▂▂▂▁▁▁▁▁▁▁▁▁▁▁▁▁▁▁▁▁▁▁▁▁▁▁▁▁▁▁▁▁▁▁▁▁</td></tr></table><br/></div><div class=\"wandb-col\"><h3>Run summary:</h3><br/><table class=\"wandb\"><tr><td>epoch</td><td>9</td></tr><tr><td>error</td><td>0.00119</td></tr><tr><td>loss</td><td>0.00118</td></tr></table><br/></div></div>"
            ]
          },
          "metadata": {}
        },
        {
          "output_type": "display_data",
          "data": {
            "text/plain": [
              "<IPython.core.display.HTML object>"
            ],
            "text/html": [
              " View run <strong style=\"color:#cdcd00\">true-glade-10</strong> at: <a href='https://wandb.ai/ana-avhale/HyenaStats/runs/j3jfxfok' target=\"_blank\">https://wandb.ai/ana-avhale/HyenaStats/runs/j3jfxfok</a><br/>Synced 5 W&B file(s), 0 media file(s), 0 artifact file(s) and 0 other file(s)"
            ]
          },
          "metadata": {}
        },
        {
          "output_type": "display_data",
          "data": {
            "text/plain": [
              "<IPython.core.display.HTML object>"
            ],
            "text/html": [
              "Find logs at: <code>./wandb/run-20231218_211157-j3jfxfok/logs</code>"
            ]
          },
          "metadata": {}
        },
        {
          "output_type": "display_data",
          "data": {
            "text/plain": [
              "VBox(children=(Label(value='Waiting for wandb.init()...\\r'), FloatProgress(value=0.01111277666666663, max=1.0)…"
            ],
            "application/vnd.jupyter.widget-view+json": {
              "version_major": 2,
              "version_minor": 0,
              "model_id": "76c8fd25bbef4525b03ea160b8db6f9f"
            }
          },
          "metadata": {}
        },
        {
          "output_type": "display_data",
          "data": {
            "text/plain": [
              "<IPython.core.display.HTML object>"
            ],
            "text/html": [
              "Tracking run with wandb version 0.16.1"
            ]
          },
          "metadata": {}
        },
        {
          "output_type": "display_data",
          "data": {
            "text/plain": [
              "<IPython.core.display.HTML object>"
            ],
            "text/html": [
              "Run data is saved locally in <code>/content/wandb/run-20231218_211754-h0c80b46</code>"
            ]
          },
          "metadata": {}
        },
        {
          "output_type": "display_data",
          "data": {
            "text/plain": [
              "<IPython.core.display.HTML object>"
            ],
            "text/html": [
              "Syncing run <strong><a href='https://wandb.ai/ana-avhale/HyenaStats/runs/h0c80b46' target=\"_blank\">helpful-jazz-11</a></strong> to <a href='https://wandb.ai/ana-avhale/HyenaStats' target=\"_blank\">Weights & Biases</a> (<a href='https://wandb.me/run' target=\"_blank\">docs</a>)<br/>"
            ]
          },
          "metadata": {}
        },
        {
          "output_type": "display_data",
          "data": {
            "text/plain": [
              "<IPython.core.display.HTML object>"
            ],
            "text/html": [
              " View project at <a href='https://wandb.ai/ana-avhale/HyenaStats' target=\"_blank\">https://wandb.ai/ana-avhale/HyenaStats</a>"
            ]
          },
          "metadata": {}
        },
        {
          "output_type": "display_data",
          "data": {
            "text/plain": [
              "<IPython.core.display.HTML object>"
            ],
            "text/html": [
              " View run at <a href='https://wandb.ai/ana-avhale/HyenaStats/runs/h0c80b46' target=\"_blank\">https://wandb.ai/ana-avhale/HyenaStats/runs/h0c80b46</a>"
            ]
          },
          "metadata": {}
        },
        {
          "output_type": "stream",
          "name": "stdout",
          "text": [
            "Epoch [1/10], Step [40/40], Loss: 0.0014\n"
          ]
        },
        {
          "output_type": "error",
          "ename": "OutOfMemoryError",
          "evalue": "ignored",
          "traceback": [
            "\u001b[0;31m---------------------------------------------------------------------------\u001b[0m",
            "\u001b[0;31mOutOfMemoryError\u001b[0m                          Traceback (most recent call last)",
            "\u001b[0;32m<ipython-input-18-aca264553dd4>\u001b[0m in \u001b[0;36m<cell line: 1>\u001b[0;34m()\u001b[0m\n\u001b[1;32m     50\u001b[0m             \u001b[0;31m# Backward and optimize\u001b[0m\u001b[0;34m\u001b[0m\u001b[0;34m\u001b[0m\u001b[0m\n\u001b[1;32m     51\u001b[0m             \u001b[0moptimizer\u001b[0m\u001b[0;34m.\u001b[0m\u001b[0mzero_grad\u001b[0m\u001b[0;34m(\u001b[0m\u001b[0;34m)\u001b[0m\u001b[0;34m\u001b[0m\u001b[0;34m\u001b[0m\u001b[0m\n\u001b[0;32m---> 52\u001b[0;31m             \u001b[0mloss\u001b[0m\u001b[0;34m.\u001b[0m\u001b[0mbackward\u001b[0m\u001b[0;34m(\u001b[0m\u001b[0mretain_graph\u001b[0m \u001b[0;34m=\u001b[0m \u001b[0;32mTrue\u001b[0m\u001b[0;34m)\u001b[0m\u001b[0;34m\u001b[0m\u001b[0;34m\u001b[0m\u001b[0m\n\u001b[0m\u001b[1;32m     53\u001b[0m             \u001b[0moptimizer\u001b[0m\u001b[0;34m.\u001b[0m\u001b[0mstep\u001b[0m\u001b[0;34m(\u001b[0m\u001b[0;34m)\u001b[0m\u001b[0;34m\u001b[0m\u001b[0;34m\u001b[0m\u001b[0m\n\u001b[1;32m     54\u001b[0m \u001b[0;34m\u001b[0m\u001b[0m\n",
            "\u001b[0;32m/usr/local/lib/python3.10/dist-packages/torch/_tensor.py\u001b[0m in \u001b[0;36mbackward\u001b[0;34m(self, gradient, retain_graph, create_graph, inputs)\u001b[0m\n\u001b[1;32m    490\u001b[0m                 \u001b[0minputs\u001b[0m\u001b[0;34m=\u001b[0m\u001b[0minputs\u001b[0m\u001b[0;34m,\u001b[0m\u001b[0;34m\u001b[0m\u001b[0;34m\u001b[0m\u001b[0m\n\u001b[1;32m    491\u001b[0m             )\n\u001b[0;32m--> 492\u001b[0;31m         torch.autograd.backward(\n\u001b[0m\u001b[1;32m    493\u001b[0m             \u001b[0mself\u001b[0m\u001b[0;34m,\u001b[0m \u001b[0mgradient\u001b[0m\u001b[0;34m,\u001b[0m \u001b[0mretain_graph\u001b[0m\u001b[0;34m,\u001b[0m \u001b[0mcreate_graph\u001b[0m\u001b[0;34m,\u001b[0m \u001b[0minputs\u001b[0m\u001b[0;34m=\u001b[0m\u001b[0minputs\u001b[0m\u001b[0;34m\u001b[0m\u001b[0;34m\u001b[0m\u001b[0m\n\u001b[1;32m    494\u001b[0m         )\n",
            "\u001b[0;32m/usr/local/lib/python3.10/dist-packages/torch/autograd/__init__.py\u001b[0m in \u001b[0;36mbackward\u001b[0;34m(tensors, grad_tensors, retain_graph, create_graph, grad_variables, inputs)\u001b[0m\n\u001b[1;32m    249\u001b[0m     \u001b[0;31m# some Python versions print out the first line of a multi-line function\u001b[0m\u001b[0;34m\u001b[0m\u001b[0;34m\u001b[0m\u001b[0m\n\u001b[1;32m    250\u001b[0m     \u001b[0;31m# calls in the traceback and some print out the last line\u001b[0m\u001b[0;34m\u001b[0m\u001b[0;34m\u001b[0m\u001b[0m\n\u001b[0;32m--> 251\u001b[0;31m     Variable._execution_engine.run_backward(  # Calls into the C++ engine to run the backward pass\n\u001b[0m\u001b[1;32m    252\u001b[0m         \u001b[0mtensors\u001b[0m\u001b[0;34m,\u001b[0m\u001b[0;34m\u001b[0m\u001b[0;34m\u001b[0m\u001b[0m\n\u001b[1;32m    253\u001b[0m         \u001b[0mgrad_tensors_\u001b[0m\u001b[0;34m,\u001b[0m\u001b[0;34m\u001b[0m\u001b[0;34m\u001b[0m\u001b[0m\n",
            "\u001b[0;31mOutOfMemoryError\u001b[0m: CUDA out of memory. Tried to allocate 750.00 MiB. GPU 0 has a total capacty of 14.75 GiB of which 241.06 MiB is free. Process 77606 has 14.51 GiB memory in use. Of the allocated memory 8.73 GiB is allocated by PyTorch, and 5.65 GiB is reserved by PyTorch but unallocated. If reserved but unallocated memory is large try setting max_split_size_mb to avoid fragmentation.  See documentation for Memory Management and PYTORCH_CUDA_ALLOC_CONF"
          ]
        }
      ]
    }
  ]
}